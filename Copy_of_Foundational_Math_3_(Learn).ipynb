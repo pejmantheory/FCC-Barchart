{
  "nbformat": 4,
  "nbformat_minor": 0,
  "metadata": {
    "colab": {
      "provenance": [],
      "collapsed_sections": [
        "szp5flp1fA8-"
      ],
      "include_colab_link": true
    },
    "kernelspec": {
      "name": "python3",
      "display_name": "Python 3"
    },
    "language_info": {
      "name": "python"
    },
    "widgets": {
      "application/vnd.jupyter.widget-state+json": {
        "fe72bc12b6554437b936275321c5d06c": {
          "model_module": "@jupyter-widgets/controls",
          "model_name": "VBoxModel",
          "model_module_version": "1.5.0",
          "state": {
            "_dom_classes": [
              "widget-interact"
            ],
            "_model_module": "@jupyter-widgets/controls",
            "_model_module_version": "1.5.0",
            "_model_name": "VBoxModel",
            "_view_count": null,
            "_view_module": "@jupyter-widgets/controls",
            "_view_module_version": "1.5.0",
            "_view_name": "VBoxView",
            "box_style": "",
            "children": [
              "IPY_MODEL_85029ccfe84c4872961daaa97ccce9a7",
              "IPY_MODEL_490f1d782ef249d29268b18c579039e6",
              "IPY_MODEL_00fabf46033648978fab411e9eb54810",
              "IPY_MODEL_60080d847042447c8a7af811c955e74f"
            ],
            "layout": "IPY_MODEL_c48761da010843f3abc28e50ca29b769"
          }
        },
        "85029ccfe84c4872961daaa97ccce9a7": {
          "model_module": "@jupyter-widgets/controls",
          "model_name": "IntSliderModel",
          "model_module_version": "1.5.0",
          "state": {
            "_dom_classes": [],
            "_model_module": "@jupyter-widgets/controls",
            "_model_module_version": "1.5.0",
            "_model_name": "IntSliderModel",
            "_view_count": null,
            "_view_module": "@jupyter-widgets/controls",
            "_view_module_version": "1.5.0",
            "_view_name": "IntSliderView",
            "continuous_update": true,
            "description": "a",
            "description_tooltip": null,
            "disabled": false,
            "layout": "IPY_MODEL_af11cf471a904166ba54e609337880f9",
            "max": 9,
            "min": -9,
            "orientation": "horizontal",
            "readout": true,
            "readout_format": "d",
            "step": 1,
            "style": "IPY_MODEL_fed260ba278c4fbca83750d101d00503",
            "value": 7
          }
        },
        "490f1d782ef249d29268b18c579039e6": {
          "model_module": "@jupyter-widgets/controls",
          "model_name": "IntSliderModel",
          "model_module_version": "1.5.0",
          "state": {
            "_dom_classes": [],
            "_model_module": "@jupyter-widgets/controls",
            "_model_module_version": "1.5.0",
            "_model_name": "IntSliderModel",
            "_view_count": null,
            "_view_module": "@jupyter-widgets/controls",
            "_view_module_version": "1.5.0",
            "_view_name": "IntSliderView",
            "continuous_update": true,
            "description": "b",
            "description_tooltip": null,
            "disabled": false,
            "layout": "IPY_MODEL_c7352e328c784af78d37e541c9c0e318",
            "max": 9,
            "min": -9,
            "orientation": "horizontal",
            "readout": true,
            "readout_format": "d",
            "step": 1,
            "style": "IPY_MODEL_c7b1f0aa674a4226a3c119381ebeea5b",
            "value": 0
          }
        },
        "00fabf46033648978fab411e9eb54810": {
          "model_module": "@jupyter-widgets/controls",
          "model_name": "IntSliderModel",
          "model_module_version": "1.5.0",
          "state": {
            "_dom_classes": [],
            "_model_module": "@jupyter-widgets/controls",
            "_model_module_version": "1.5.0",
            "_model_name": "IntSliderModel",
            "_view_count": null,
            "_view_module": "@jupyter-widgets/controls",
            "_view_module_version": "1.5.0",
            "_view_name": "IntSliderView",
            "continuous_update": true,
            "description": "c",
            "description_tooltip": null,
            "disabled": false,
            "layout": "IPY_MODEL_3a8cc089bd32470b825ee277e914604d",
            "max": 9,
            "min": -9,
            "orientation": "horizontal",
            "readout": true,
            "readout_format": "d",
            "step": 1,
            "style": "IPY_MODEL_9a8963757ff3489e8448b2fd5595ece5",
            "value": -2
          }
        },
        "60080d847042447c8a7af811c955e74f": {
          "model_module": "@jupyter-widgets/output",
          "model_name": "OutputModel",
          "model_module_version": "1.0.0",
          "state": {
            "_dom_classes": [],
            "_model_module": "@jupyter-widgets/output",
            "_model_module_version": "1.0.0",
            "_model_name": "OutputModel",
            "_view_count": null,
            "_view_module": "@jupyter-widgets/output",
            "_view_module_version": "1.0.0",
            "_view_name": "OutputView",
            "layout": "IPY_MODEL_b376a8cd8e8a479e83f527f2122586ba",
            "msg_id": "",
            "outputs": [
              {
                "output_type": "display_data",
                "data": {
                  "text/plain": "<Figure size 640x480 with 1 Axes>",
                  "image/png": "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\n"
                },
                "metadata": {}
              }
            ]
          }
        },
        "c48761da010843f3abc28e50ca29b769": {
          "model_module": "@jupyter-widgets/base",
          "model_name": "LayoutModel",
          "model_module_version": "1.2.0",
          "state": {
            "_model_module": "@jupyter-widgets/base",
            "_model_module_version": "1.2.0",
            "_model_name": "LayoutModel",
            "_view_count": null,
            "_view_module": "@jupyter-widgets/base",
            "_view_module_version": "1.2.0",
            "_view_name": "LayoutView",
            "align_content": null,
            "align_items": null,
            "align_self": null,
            "border": null,
            "bottom": null,
            "display": null,
            "flex": null,
            "flex_flow": null,
            "grid_area": null,
            "grid_auto_columns": null,
            "grid_auto_flow": null,
            "grid_auto_rows": null,
            "grid_column": null,
            "grid_gap": null,
            "grid_row": null,
            "grid_template_areas": null,
            "grid_template_columns": null,
            "grid_template_rows": null,
            "height": null,
            "justify_content": null,
            "justify_items": null,
            "left": null,
            "margin": null,
            "max_height": null,
            "max_width": null,
            "min_height": null,
            "min_width": null,
            "object_fit": null,
            "object_position": null,
            "order": null,
            "overflow": null,
            "overflow_x": null,
            "overflow_y": null,
            "padding": null,
            "right": null,
            "top": null,
            "visibility": null,
            "width": null
          }
        },
        "af11cf471a904166ba54e609337880f9": {
          "model_module": "@jupyter-widgets/base",
          "model_name": "LayoutModel",
          "model_module_version": "1.2.0",
          "state": {
            "_model_module": "@jupyter-widgets/base",
            "_model_module_version": "1.2.0",
            "_model_name": "LayoutModel",
            "_view_count": null,
            "_view_module": "@jupyter-widgets/base",
            "_view_module_version": "1.2.0",
            "_view_name": "LayoutView",
            "align_content": null,
            "align_items": null,
            "align_self": null,
            "border": null,
            "bottom": null,
            "display": null,
            "flex": null,
            "flex_flow": null,
            "grid_area": null,
            "grid_auto_columns": null,
            "grid_auto_flow": null,
            "grid_auto_rows": null,
            "grid_column": null,
            "grid_gap": null,
            "grid_row": null,
            "grid_template_areas": null,
            "grid_template_columns": null,
            "grid_template_rows": null,
            "height": null,
            "justify_content": null,
            "justify_items": null,
            "left": null,
            "margin": null,
            "max_height": null,
            "max_width": null,
            "min_height": null,
            "min_width": null,
            "object_fit": null,
            "object_position": null,
            "order": null,
            "overflow": null,
            "overflow_x": null,
            "overflow_y": null,
            "padding": null,
            "right": null,
            "top": null,
            "visibility": null,
            "width": null
          }
        },
        "fed260ba278c4fbca83750d101d00503": {
          "model_module": "@jupyter-widgets/controls",
          "model_name": "SliderStyleModel",
          "model_module_version": "1.5.0",
          "state": {
            "_model_module": "@jupyter-widgets/controls",
            "_model_module_version": "1.5.0",
            "_model_name": "SliderStyleModel",
            "_view_count": null,
            "_view_module": "@jupyter-widgets/base",
            "_view_module_version": "1.2.0",
            "_view_name": "StyleView",
            "description_width": "",
            "handle_color": null
          }
        },
        "c7352e328c784af78d37e541c9c0e318": {
          "model_module": "@jupyter-widgets/base",
          "model_name": "LayoutModel",
          "model_module_version": "1.2.0",
          "state": {
            "_model_module": "@jupyter-widgets/base",
            "_model_module_version": "1.2.0",
            "_model_name": "LayoutModel",
            "_view_count": null,
            "_view_module": "@jupyter-widgets/base",
            "_view_module_version": "1.2.0",
            "_view_name": "LayoutView",
            "align_content": null,
            "align_items": null,
            "align_self": null,
            "border": null,
            "bottom": null,
            "display": null,
            "flex": null,
            "flex_flow": null,
            "grid_area": null,
            "grid_auto_columns": null,
            "grid_auto_flow": null,
            "grid_auto_rows": null,
            "grid_column": null,
            "grid_gap": null,
            "grid_row": null,
            "grid_template_areas": null,
            "grid_template_columns": null,
            "grid_template_rows": null,
            "height": null,
            "justify_content": null,
            "justify_items": null,
            "left": null,
            "margin": null,
            "max_height": null,
            "max_width": null,
            "min_height": null,
            "min_width": null,
            "object_fit": null,
            "object_position": null,
            "order": null,
            "overflow": null,
            "overflow_x": null,
            "overflow_y": null,
            "padding": null,
            "right": null,
            "top": null,
            "visibility": null,
            "width": null
          }
        },
        "c7b1f0aa674a4226a3c119381ebeea5b": {
          "model_module": "@jupyter-widgets/controls",
          "model_name": "SliderStyleModel",
          "model_module_version": "1.5.0",
          "state": {
            "_model_module": "@jupyter-widgets/controls",
            "_model_module_version": "1.5.0",
            "_model_name": "SliderStyleModel",
            "_view_count": null,
            "_view_module": "@jupyter-widgets/base",
            "_view_module_version": "1.2.0",
            "_view_name": "StyleView",
            "description_width": "",
            "handle_color": null
          }
        },
        "3a8cc089bd32470b825ee277e914604d": {
          "model_module": "@jupyter-widgets/base",
          "model_name": "LayoutModel",
          "model_module_version": "1.2.0",
          "state": {
            "_model_module": "@jupyter-widgets/base",
            "_model_module_version": "1.2.0",
            "_model_name": "LayoutModel",
            "_view_count": null,
            "_view_module": "@jupyter-widgets/base",
            "_view_module_version": "1.2.0",
            "_view_name": "LayoutView",
            "align_content": null,
            "align_items": null,
            "align_self": null,
            "border": null,
            "bottom": null,
            "display": null,
            "flex": null,
            "flex_flow": null,
            "grid_area": null,
            "grid_auto_columns": null,
            "grid_auto_flow": null,
            "grid_auto_rows": null,
            "grid_column": null,
            "grid_gap": null,
            "grid_row": null,
            "grid_template_areas": null,
            "grid_template_columns": null,
            "grid_template_rows": null,
            "height": null,
            "justify_content": null,
            "justify_items": null,
            "left": null,
            "margin": null,
            "max_height": null,
            "max_width": null,
            "min_height": null,
            "min_width": null,
            "object_fit": null,
            "object_position": null,
            "order": null,
            "overflow": null,
            "overflow_x": null,
            "overflow_y": null,
            "padding": null,
            "right": null,
            "top": null,
            "visibility": null,
            "width": null
          }
        },
        "9a8963757ff3489e8448b2fd5595ece5": {
          "model_module": "@jupyter-widgets/controls",
          "model_name": "SliderStyleModel",
          "model_module_version": "1.5.0",
          "state": {
            "_model_module": "@jupyter-widgets/controls",
            "_model_module_version": "1.5.0",
            "_model_name": "SliderStyleModel",
            "_view_count": null,
            "_view_module": "@jupyter-widgets/base",
            "_view_module_version": "1.2.0",
            "_view_name": "StyleView",
            "description_width": "",
            "handle_color": null
          }
        },
        "b376a8cd8e8a479e83f527f2122586ba": {
          "model_module": "@jupyter-widgets/base",
          "model_name": "LayoutModel",
          "model_module_version": "1.2.0",
          "state": {
            "_model_module": "@jupyter-widgets/base",
            "_model_module_version": "1.2.0",
            "_model_name": "LayoutModel",
            "_view_count": null,
            "_view_module": "@jupyter-widgets/base",
            "_view_module_version": "1.2.0",
            "_view_name": "LayoutView",
            "align_content": null,
            "align_items": null,
            "align_self": null,
            "border": null,
            "bottom": null,
            "display": null,
            "flex": null,
            "flex_flow": null,
            "grid_area": null,
            "grid_auto_columns": null,
            "grid_auto_flow": null,
            "grid_auto_rows": null,
            "grid_column": null,
            "grid_gap": null,
            "grid_row": null,
            "grid_template_areas": null,
            "grid_template_columns": null,
            "grid_template_rows": null,
            "height": null,
            "justify_content": null,
            "justify_items": null,
            "left": null,
            "margin": null,
            "max_height": null,
            "max_width": null,
            "min_height": null,
            "min_width": null,
            "object_fit": null,
            "object_position": null,
            "order": null,
            "overflow": null,
            "overflow_x": null,
            "overflow_y": null,
            "padding": null,
            "right": null,
            "top": null,
            "visibility": null,
            "width": null
          }
        },
        "8d434d32d5974ff290578ef82585405b": {
          "model_module": "@jupyter-widgets/controls",
          "model_name": "VBoxModel",
          "model_module_version": "1.5.0",
          "state": {
            "_dom_classes": [
              "widget-interact"
            ],
            "_model_module": "@jupyter-widgets/controls",
            "_model_module_version": "1.5.0",
            "_model_name": "VBoxModel",
            "_view_count": null,
            "_view_module": "@jupyter-widgets/controls",
            "_view_module_version": "1.5.0",
            "_view_name": "VBoxView",
            "box_style": "",
            "children": [
              "IPY_MODEL_2d6fd110c593440ea0d7e6026055b41a",
              "IPY_MODEL_56fe6b1fc2f8449cbfdeab83fc4f5d5f",
              "IPY_MODEL_d09beea858994ff6b98827eacc62fcb2"
            ],
            "layout": "IPY_MODEL_2abeaad3207d41b3a783bba66f8714e3"
          }
        },
        "2d6fd110c593440ea0d7e6026055b41a": {
          "model_module": "@jupyter-widgets/controls",
          "model_name": "IntSliderModel",
          "model_module_version": "1.5.0",
          "state": {
            "_dom_classes": [],
            "_model_module": "@jupyter-widgets/controls",
            "_model_module_version": "1.5.0",
            "_model_name": "IntSliderModel",
            "_view_count": null,
            "_view_module": "@jupyter-widgets/controls",
            "_view_module_version": "1.5.0",
            "_view_name": "IntSliderView",
            "continuous_update": true,
            "description": "a",
            "description_tooltip": null,
            "disabled": false,
            "layout": "IPY_MODEL_ed09e7c97a4a4451a99766851449b478",
            "max": -1,
            "min": -9,
            "orientation": "horizontal",
            "readout": true,
            "readout_format": "d",
            "step": 1,
            "style": "IPY_MODEL_99698e0226964b9abfb819ebd7c831e6",
            "value": -7
          }
        },
        "56fe6b1fc2f8449cbfdeab83fc4f5d5f": {
          "model_module": "@jupyter-widgets/controls",
          "model_name": "IntSliderModel",
          "model_module_version": "1.5.0",
          "state": {
            "_dom_classes": [],
            "_model_module": "@jupyter-widgets/controls",
            "_model_module_version": "1.5.0",
            "_model_name": "IntSliderModel",
            "_view_count": null,
            "_view_module": "@jupyter-widgets/controls",
            "_view_module_version": "1.5.0",
            "_view_name": "IntSliderView",
            "continuous_update": true,
            "description": "b",
            "description_tooltip": null,
            "disabled": false,
            "layout": "IPY_MODEL_401d1328f613430aa8aa412f70976f45",
            "max": 9,
            "min": 1,
            "orientation": "horizontal",
            "readout": true,
            "readout_format": "d",
            "step": 1,
            "style": "IPY_MODEL_a4f4c06e00b94332881419c70318f6cf",
            "value": 6
          }
        },
        "d09beea858994ff6b98827eacc62fcb2": {
          "model_module": "@jupyter-widgets/output",
          "model_name": "OutputModel",
          "model_module_version": "1.0.0",
          "state": {
            "_dom_classes": [],
            "_model_module": "@jupyter-widgets/output",
            "_model_module_version": "1.0.0",
            "_model_name": "OutputModel",
            "_view_count": null,
            "_view_module": "@jupyter-widgets/output",
            "_view_module_version": "1.0.0",
            "_view_name": "OutputView",
            "layout": "IPY_MODEL_799a850a888f4d41b76999ecb99b1772",
            "msg_id": "",
            "outputs": [
              {
                "output_type": "display_data",
                "data": {
                  "text/plain": "<Figure size 640x480 with 1 Axes>",
                  "image/png": "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\n"
                },
                "metadata": {}
              }
            ]
          }
        },
        "2abeaad3207d41b3a783bba66f8714e3": {
          "model_module": "@jupyter-widgets/base",
          "model_name": "LayoutModel",
          "model_module_version": "1.2.0",
          "state": {
            "_model_module": "@jupyter-widgets/base",
            "_model_module_version": "1.2.0",
            "_model_name": "LayoutModel",
            "_view_count": null,
            "_view_module": "@jupyter-widgets/base",
            "_view_module_version": "1.2.0",
            "_view_name": "LayoutView",
            "align_content": null,
            "align_items": null,
            "align_self": null,
            "border": null,
            "bottom": null,
            "display": null,
            "flex": null,
            "flex_flow": null,
            "grid_area": null,
            "grid_auto_columns": null,
            "grid_auto_flow": null,
            "grid_auto_rows": null,
            "grid_column": null,
            "grid_gap": null,
            "grid_row": null,
            "grid_template_areas": null,
            "grid_template_columns": null,
            "grid_template_rows": null,
            "height": null,
            "justify_content": null,
            "justify_items": null,
            "left": null,
            "margin": null,
            "max_height": null,
            "max_width": null,
            "min_height": null,
            "min_width": null,
            "object_fit": null,
            "object_position": null,
            "order": null,
            "overflow": null,
            "overflow_x": null,
            "overflow_y": null,
            "padding": null,
            "right": null,
            "top": null,
            "visibility": null,
            "width": null
          }
        },
        "ed09e7c97a4a4451a99766851449b478": {
          "model_module": "@jupyter-widgets/base",
          "model_name": "LayoutModel",
          "model_module_version": "1.2.0",
          "state": {
            "_model_module": "@jupyter-widgets/base",
            "_model_module_version": "1.2.0",
            "_model_name": "LayoutModel",
            "_view_count": null,
            "_view_module": "@jupyter-widgets/base",
            "_view_module_version": "1.2.0",
            "_view_name": "LayoutView",
            "align_content": null,
            "align_items": null,
            "align_self": null,
            "border": null,
            "bottom": null,
            "display": null,
            "flex": null,
            "flex_flow": null,
            "grid_area": null,
            "grid_auto_columns": null,
            "grid_auto_flow": null,
            "grid_auto_rows": null,
            "grid_column": null,
            "grid_gap": null,
            "grid_row": null,
            "grid_template_areas": null,
            "grid_template_columns": null,
            "grid_template_rows": null,
            "height": null,
            "justify_content": null,
            "justify_items": null,
            "left": null,
            "margin": null,
            "max_height": null,
            "max_width": null,
            "min_height": null,
            "min_width": null,
            "object_fit": null,
            "object_position": null,
            "order": null,
            "overflow": null,
            "overflow_x": null,
            "overflow_y": null,
            "padding": null,
            "right": null,
            "top": null,
            "visibility": null,
            "width": null
          }
        },
        "99698e0226964b9abfb819ebd7c831e6": {
          "model_module": "@jupyter-widgets/controls",
          "model_name": "SliderStyleModel",
          "model_module_version": "1.5.0",
          "state": {
            "_model_module": "@jupyter-widgets/controls",
            "_model_module_version": "1.5.0",
            "_model_name": "SliderStyleModel",
            "_view_count": null,
            "_view_module": "@jupyter-widgets/base",
            "_view_module_version": "1.2.0",
            "_view_name": "StyleView",
            "description_width": "",
            "handle_color": null
          }
        },
        "401d1328f613430aa8aa412f70976f45": {
          "model_module": "@jupyter-widgets/base",
          "model_name": "LayoutModel",
          "model_module_version": "1.2.0",
          "state": {
            "_model_module": "@jupyter-widgets/base",
            "_model_module_version": "1.2.0",
            "_model_name": "LayoutModel",
            "_view_count": null,
            "_view_module": "@jupyter-widgets/base",
            "_view_module_version": "1.2.0",
            "_view_name": "LayoutView",
            "align_content": null,
            "align_items": null,
            "align_self": null,
            "border": null,
            "bottom": null,
            "display": null,
            "flex": null,
            "flex_flow": null,
            "grid_area": null,
            "grid_auto_columns": null,
            "grid_auto_flow": null,
            "grid_auto_rows": null,
            "grid_column": null,
            "grid_gap": null,
            "grid_row": null,
            "grid_template_areas": null,
            "grid_template_columns": null,
            "grid_template_rows": null,
            "height": null,
            "justify_content": null,
            "justify_items": null,
            "left": null,
            "margin": null,
            "max_height": null,
            "max_width": null,
            "min_height": null,
            "min_width": null,
            "object_fit": null,
            "object_position": null,
            "order": null,
            "overflow": null,
            "overflow_x": null,
            "overflow_y": null,
            "padding": null,
            "right": null,
            "top": null,
            "visibility": null,
            "width": null
          }
        },
        "a4f4c06e00b94332881419c70318f6cf": {
          "model_module": "@jupyter-widgets/controls",
          "model_name": "SliderStyleModel",
          "model_module_version": "1.5.0",
          "state": {
            "_model_module": "@jupyter-widgets/controls",
            "_model_module_version": "1.5.0",
            "_model_name": "SliderStyleModel",
            "_view_count": null,
            "_view_module": "@jupyter-widgets/base",
            "_view_module_version": "1.2.0",
            "_view_name": "StyleView",
            "description_width": "",
            "handle_color": null
          }
        },
        "799a850a888f4d41b76999ecb99b1772": {
          "model_module": "@jupyter-widgets/base",
          "model_name": "LayoutModel",
          "model_module_version": "1.2.0",
          "state": {
            "_model_module": "@jupyter-widgets/base",
            "_model_module_version": "1.2.0",
            "_model_name": "LayoutModel",
            "_view_count": null,
            "_view_module": "@jupyter-widgets/base",
            "_view_module_version": "1.2.0",
            "_view_name": "LayoutView",
            "align_content": null,
            "align_items": null,
            "align_self": null,
            "border": null,
            "bottom": null,
            "display": null,
            "flex": null,
            "flex_flow": null,
            "grid_area": null,
            "grid_auto_columns": null,
            "grid_auto_flow": null,
            "grid_auto_rows": null,
            "grid_column": null,
            "grid_gap": null,
            "grid_row": null,
            "grid_template_areas": null,
            "grid_template_columns": null,
            "grid_template_rows": null,
            "height": null,
            "justify_content": null,
            "justify_items": null,
            "left": null,
            "margin": null,
            "max_height": null,
            "max_width": null,
            "min_height": null,
            "min_width": null,
            "object_fit": null,
            "object_position": null,
            "order": null,
            "overflow": null,
            "overflow_x": null,
            "overflow_y": null,
            "padding": null,
            "right": null,
            "top": null,
            "visibility": null,
            "width": null
          }
        },
        "2a8ccad02d8c4804a6f38e706b47d23c": {
          "model_module": "@jupyter-widgets/controls",
          "model_name": "VBoxModel",
          "model_module_version": "1.5.0",
          "state": {
            "_dom_classes": [
              "widget-interact"
            ],
            "_model_module": "@jupyter-widgets/controls",
            "_model_module_version": "1.5.0",
            "_model_name": "VBoxModel",
            "_view_count": null,
            "_view_module": "@jupyter-widgets/controls",
            "_view_module_version": "1.5.0",
            "_view_name": "VBoxView",
            "box_style": "",
            "children": [
              "IPY_MODEL_0104620a4f614202b1998ccb6123d88c"
            ],
            "layout": "IPY_MODEL_b783624c63d640dcae17cc1be016f3c9"
          }
        },
        "0104620a4f614202b1998ccb6123d88c": {
          "model_module": "@jupyter-widgets/output",
          "model_name": "OutputModel",
          "model_module_version": "1.0.0",
          "state": {
            "_dom_classes": [],
            "_model_module": "@jupyter-widgets/output",
            "_model_module_version": "1.0.0",
            "_model_name": "OutputModel",
            "_view_count": null,
            "_view_module": "@jupyter-widgets/output",
            "_view_module_version": "1.0.0",
            "_view_name": "OutputView",
            "layout": "IPY_MODEL_67b10fc3279743f89a1cd3adcb300469",
            "msg_id": "",
            "outputs": [
              {
                "output_type": "display_data",
                "data": {
                  "text/plain": "<Figure size 800x600 with 1 Axes>",
                  "image/png": "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\n"
                },
                "metadata": {}
              }
            ]
          }
        },
        "b783624c63d640dcae17cc1be016f3c9": {
          "model_module": "@jupyter-widgets/base",
          "model_name": "LayoutModel",
          "model_module_version": "1.2.0",
          "state": {
            "_model_module": "@jupyter-widgets/base",
            "_model_module_version": "1.2.0",
            "_model_name": "LayoutModel",
            "_view_count": null,
            "_view_module": "@jupyter-widgets/base",
            "_view_module_version": "1.2.0",
            "_view_name": "LayoutView",
            "align_content": null,
            "align_items": null,
            "align_self": null,
            "border": null,
            "bottom": null,
            "display": null,
            "flex": null,
            "flex_flow": null,
            "grid_area": null,
            "grid_auto_columns": null,
            "grid_auto_flow": null,
            "grid_auto_rows": null,
            "grid_column": null,
            "grid_gap": null,
            "grid_row": null,
            "grid_template_areas": null,
            "grid_template_columns": null,
            "grid_template_rows": null,
            "height": null,
            "justify_content": null,
            "justify_items": null,
            "left": null,
            "margin": null,
            "max_height": null,
            "max_width": null,
            "min_height": null,
            "min_width": null,
            "object_fit": null,
            "object_position": null,
            "order": null,
            "overflow": null,
            "overflow_x": null,
            "overflow_y": null,
            "padding": null,
            "right": null,
            "top": null,
            "visibility": null,
            "width": null
          }
        },
        "67b10fc3279743f89a1cd3adcb300469": {
          "model_module": "@jupyter-widgets/base",
          "model_name": "LayoutModel",
          "model_module_version": "1.2.0",
          "state": {
            "_model_module": "@jupyter-widgets/base",
            "_model_module_version": "1.2.0",
            "_model_name": "LayoutModel",
            "_view_count": null,
            "_view_module": "@jupyter-widgets/base",
            "_view_module_version": "1.2.0",
            "_view_name": "LayoutView",
            "align_content": null,
            "align_items": null,
            "align_self": null,
            "border": null,
            "bottom": null,
            "display": null,
            "flex": null,
            "flex_flow": null,
            "grid_area": null,
            "grid_auto_columns": null,
            "grid_auto_flow": null,
            "grid_auto_rows": null,
            "grid_column": null,
            "grid_gap": null,
            "grid_row": null,
            "grid_template_areas": null,
            "grid_template_columns": null,
            "grid_template_rows": null,
            "height": null,
            "justify_content": null,
            "justify_items": null,
            "left": null,
            "margin": null,
            "max_height": null,
            "max_width": null,
            "min_height": null,
            "min_width": null,
            "object_fit": null,
            "object_position": null,
            "order": null,
            "overflow": null,
            "overflow_x": null,
            "overflow_y": null,
            "padding": null,
            "right": null,
            "top": null,
            "visibility": null,
            "width": null
          }
        }
      }
    }
  },
  "cells": [
    {
      "cell_type": "markdown",
      "metadata": {
        "id": "view-in-github",
        "colab_type": "text"
      },
      "source": [
        "<a href=\"https://colab.research.google.com/github/pejmantheory/FCC-Barchart/blob/main/Copy_of_Foundational_Math_3_(Learn).ipynb\" target=\"_parent\"><img src=\"https://colab.research.google.com/assets/colab-badge.svg\" alt=\"Open In Colab\"/></a>"
      ]
    },
    {
      "cell_type": "markdown",
      "metadata": {
        "id": "EsfO5Q92tL-6"
      },
      "source": [
        "[![freeCodeCamp](https://cdn.freecodecamp.org/testable-projects-fcc/images/fcc_secondary.svg)](https://freecodecamp.org/)"
      ]
    },
    {
      "cell_type": "markdown",
      "metadata": {
        "id": "57mlyO58UfN0"
      },
      "source": [
        "**Learn Foundational Math 3 by Building a Financial App**<br>\n",
        "Each of these steps will lead you toward the Certification Project. Once you complete a step, click to expand the next step."
      ]
    },
    {
      "cell_type": "markdown",
      "metadata": {
        "id": "szp5flp1fA8-"
      },
      "source": [
        "# &darr; **Do this first** &darr;\n",
        "Copy this notebook to your own account by clicking the `File` button at the top, and then click `Save a copy in Drive`. You will need to be logged in to Google. The file will be in a folder called \"Colab Notebooks\" in your Google Drive."
      ]
    },
    {
      "cell_type": "markdown",
      "source": [
        "# Step 0 - Acquire the Testing Library"
      ],
      "metadata": {
        "id": "KDloBuvnHQTS"
      }
    },
    {
      "cell_type": "markdown",
      "source": [
        "Please run this code to get the library file from FreeCodeCamp. Each step will use this library to test your code. You do not need to edit anything; just run this code cell and wait a few seconds until it tells you to go on to the next step."
      ],
      "metadata": {
        "id": "JiW6TlNezZKS"
      }
    },
    {
      "cell_type": "code",
      "source": [
        "# You may need to run this cell at the beginning of each new session\n",
        "\n",
        "!pip install requests\n",
        "\n",
        "# This will just take a few seconds\n",
        "\n",
        "import requests\n",
        "\n",
        "# Get the library from GitHub\n",
        "url = 'https://raw.githubusercontent.com/edatfreecodecamp/python-math/main/math-code-test-c.py'\n",
        "r = requests.get(url)\n",
        "\n",
        "# Save the library in a local working directory\n",
        "with open('math_code_test_c.py', 'w') as f:\n",
        "    f.write(r.text)\n",
        "\n",
        "# Now you can import the library\n",
        "import math_code_test_c as test\n",
        "\n",
        "# This will tell you if the code works\n",
        "test.step00()"
      ],
      "metadata": {
        "id": "eTlHceacGa1C",
        "outputId": "4d1bc4ad-f013-47fb-ce02-c38c94d1230e",
        "colab": {
          "base_uri": "https://localhost:8080/"
        }
      },
      "execution_count": 2,
      "outputs": [
        {
          "output_type": "stream",
          "name": "stdout",
          "text": [
            "Requirement already satisfied: requests in /usr/local/lib/python3.10/dist-packages (2.27.1)\n",
            "Requirement already satisfied: urllib3<1.27,>=1.21.1 in /usr/local/lib/python3.10/dist-packages (from requests) (1.26.16)\n",
            "Requirement already satisfied: certifi>=2017.4.17 in /usr/local/lib/python3.10/dist-packages (from requests) (2023.5.7)\n",
            "Requirement already satisfied: charset-normalizer~=2.0.0 in /usr/local/lib/python3.10/dist-packages (from requests) (2.0.12)\n",
            "Requirement already satisfied: idna<4,>=2.5 in /usr/local/lib/python3.10/dist-packages (from requests) (3.4)\n",
            "Code test passed\n",
            "Go on to the next step\n"
          ]
        }
      ]
    },
    {
      "cell_type": "markdown",
      "metadata": {
        "id": "r1AM-AcqkbyF"
      },
      "source": [
        "# Step 1 - Graphing Inequalities"
      ]
    },
    {
      "cell_type": "markdown",
      "metadata": {
        "id": "K8rdL_OEkd-t"
      },
      "source": [
        "Learn Inequalities by Building Shaded Graphs. Notice how you set up the plot, like you learned in the last certification. Run the following code and you will see that the graph of y <u>></u> 2x is not quite right. Because y is greater, the shading should be above the line. The second two arguments in the `fill_between()` function give a range of y values to shade. Change just that part of the code to make the graph correct. (Hint: Think about the top of the graph.)\n"
      ]
    },
    {
      "cell_type": "code",
      "metadata": {
        "id": "QAVgVP3xUd4J",
        "colab": {
          "base_uri": "https://localhost:8080/",
          "height": 506
        },
        "outputId": "b71f3be6-e335-4e63-df39-685b190c71be"
      },
      "source": [
        "import matplotlib.pyplot as plt\n",
        "import numpy as np\n",
        "\n",
        "xmin = -10\n",
        "xmax = 10\n",
        "ymin = -10\n",
        "ymax = 10\n",
        "points = 2 * (xmax - xmin)\n",
        "x = np.linspace(xmin, xmax, points)\n",
        "\n",
        "fig, ax = plt.subplots()\n",
        "plt.axis([xmin, xmax, ymin, ymax])  # window size\n",
        "plt.plot([xmin, xmax], [0, 0], 'b')  # blue x-axis\n",
        "plt.plot([0, 0], [ymin, ymax], 'b')  # blue y-axis\n",
        "\n",
        "plt.title(\"y > 2x\")\n",
        "\n",
        "y1 = 2 * x\n",
        "plt.plot(x, y1)\n",
        "\n",
        "# Only change code below this line\n",
        "plt.fill_between(x, y1, ymax)\n",
        "\n",
        "plt.show()\n",
        "\n",
        "# Only change code above this line\n",
        "import math_code_test_c as test\n",
        "test.step01(In[-1].split('# Only change code above this line')[0])"
      ],
      "execution_count": null,
      "outputs": [
        {
          "output_type": "display_data",
          "data": {
            "text/plain": [
              "<Figure size 640x480 with 1 Axes>"
            ],
            "image/png": "[encoded data removed]"
          },
          "metadata": {}
        },
        {
          "output_type": "stream",
          "name": "stdout",
          "text": [
            " \n",
            "Code test passed\n",
            "Go on to the next step\n"
          ]
        }
      ]
    },
    {
      "cell_type": "markdown",
      "metadata": {
        "id": "8wXbGsoYkm60"
      },
      "source": [
        "# Step 2 - Graphing inequalities - Part 2"
      ]
    },
    {
      "cell_type": "markdown",
      "metadata": {
        "id": "ehY1G02Dkv7r"
      },
      "source": [
        "The default graph will give you a solid line, but you can change the type of line and the color. As `'b'` is for a solid blue line, `'b--'` will be a dashed blue line and `'r--'` will display a dashed red line. Change the code to graph a dashed red line."
      ]
    },
    {
      "cell_type": "code",
      "metadata": {
        "id": "3Pp_SmUikwgy",
        "colab": {
          "base_uri": "https://localhost:8080/",
          "height": 435
        },
        "outputId": "bc7b5e7a-2638-4c5d-c392-d13b169d39ea"
      },
      "source": [
        "import matplotlib.pyplot as plt\n",
        "import numpy as np\n",
        "\n",
        "xmin = -10\n",
        "xmax = 10\n",
        "ymin = -10\n",
        "ymax = 10\n",
        "points = 2 * (xmax - xmin)\n",
        "x = np.linspace(xmin, xmax, points)\n",
        "\n",
        "fig, ax = plt.subplots()\n",
        "plt.axis([xmin, xmax, ymin, ymax])  # window size\n",
        "plt.plot([xmin, xmax], [0, 0], 'b')  # blue x axis\n",
        "plt.plot([0, 0], [ymin, ymax], 'b')  # blue y axis\n",
        "\n",
        "y1 = 2 * x\n",
        "\n",
        "# Only change the next line:\n",
        "plt.plot(x, y1, 'r--')\n",
        "\n",
        "plt.fill_between(x, y1, ymin)\n",
        "plt.show()\n"
      ],
      "execution_count": null,
      "outputs": [
        {
          "output_type": "display_data",
          "data": {
            "text/plain": [
              "<Figure size 640x480 with 1 Axes>"
            ],
            "image/png": "[encoded data removed]"
          },
          "metadata": {}
        }
      ]
    },
    {
      "cell_type": "markdown",
      "metadata": {
        "id": "tBxuJtHck2Oo"
      },
      "source": [
        "# Step 3 - Making Art with Graphs"
      ]
    },
    {
      "cell_type": "markdown",
      "metadata": {
        "id": "PTr63nCrlTiM"
      },
      "source": [
        "Now plot four inequalities on the graph, in a pattern. Notice how you only need to define the x values once. In the `fill_between()` function notice a fourth argument, `facecolor=`, to indicate a different color for the shaded area. The color name in single quotes, like 'green' or 'yellow' or any common color name. Run the code to see the pattern, then reverse the order of the colors and run it again."
      ]
    },
    {
      "cell_type": "code",
      "metadata": {
        "id": "Iyoq1h3vlV-a",
        "colab": {
          "base_uri": "https://localhost:8080/",
          "height": 489
        },
        "outputId": "0cf90b32-c88b-434d-9750-277c682200b2"
      },
      "source": [
        "import matplotlib.pyplot as plt\n",
        "import numpy as np\n",
        "\n",
        "xmin = -10\n",
        "xmax = 10\n",
        "ymin = - 10\n",
        "ymax = 10\n",
        "points = 2*(xmax-xmin)\n",
        "x = np.linspace(xmin,xmax,points)\n",
        "\n",
        "fig, ax = plt.subplots()\n",
        "plt.axis([xmin,xmax,ymin,ymax]) # window size\n",
        "plt.plot([xmin,xmax],[0,0],'b') # blue x axis\n",
        "plt.plot([0,0],[ymin,ymax], 'b') # blue y axis\n",
        "\n",
        "# Only change the lines indicated below\n",
        "\n",
        "# line 1\n",
        "y1 = x+6\n",
        "plt.plot(x, y1)\n",
        "plt.fill_between(x, y1, 10, facecolor='blue') # change this line\n",
        "\n",
        "# line 2\n",
        "y2 = x+3\n",
        "plt.plot(x, y2)\n",
        "plt.fill_between(x, y2, y1, facecolor='yellow') # change this line\n",
        "\n",
        "# line 3\n",
        "y3 = x-1\n",
        "plt.plot(x, y3)\n",
        "plt.fill_between(x, y3, y2, facecolor='green') # change this line\n",
        "\n",
        "# line 4\n",
        "y4 = x-4\n",
        "plt.plot(x, y4)\n",
        "plt.fill_between(x, y4, y3, facecolor='red') # change this line\n",
        "\n",
        "plt.show()\n",
        "\n",
        "\n",
        "\n",
        "# Only change code above this line\n",
        "import math_code_test_c as test\n",
        "test.step03(In[-1].split('# Only change code above this line')[0])"
      ],
      "execution_count": null,
      "outputs": [
        {
          "output_type": "display_data",
          "data": {
            "text/plain": [
              "<Figure size 640x480 with 1 Axes>"
            ],
            "image/png": "[encoded data removed]"
          },
          "metadata": {}
        },
        {
          "output_type": "stream",
          "name": "stdout",
          "text": [
            " \n",
            "Code test passed\n",
            "Go on to the next step\n"
          ]
        }
      ]
    },
    {
      "cell_type": "markdown",
      "metadata": {
        "id": "s3z_zaNWlet8"
      },
      "source": [
        "# Step 4 - Monomials"
      ]
    },
    {
      "cell_type": "markdown",
      "metadata": {
        "id": "BTOGQIpElet-"
      },
      "source": [
        "A <i>monomial</i> means \"one thing\" or one term. In a math equation, each term has a sign, a coefficient, and a variable to an exponent. Here are some examples: In the term -3x<sup>2</sup> you can see that the sign is negative, the coefficient is 3, the variable is x, the exponent is 2. The term x also has all of these parts: the sign is positive, the coefficient is 1, the variable is x, and the exponent is 1. In the term 5, the sign is positive, the coefficient is 5, the variable is still x, and the exponent is zero (notice that you don't need to write some of these parts, like x<sup>0</sup>). You can use `sympy` to display monomials nicely. Just run the code to see how this looks.  "
      ]
    },
    {
      "cell_type": "code",
      "metadata": {
        "id": "oAPKmzeblet_",
        "colab": {
          "base_uri": "https://localhost:8080/",
          "height": 75
        },
        "outputId": "93ce8ecf-3846-454f-92bf-c17e98ba29df"
      },
      "source": [
        "from sympy import symbols, Eq\n",
        "\n",
        "x = symbols('x')\n",
        "eq1 = Eq(-2*x**3 , -16)\n",
        "display(eq1)\n",
        "\n",
        "\n",
        "# Just run this code\n",
        "import math_code_test_c as test\n",
        "test.step00()"
      ],
      "execution_count": null,
      "outputs": [
        {
          "output_type": "display_data",
          "data": {
            "text/plain": [
              "Eq(-2*x**3, -16)"
            ],
            "text/latex": "$\\displaystyle - 2 x^{3} = -16$"
          },
          "metadata": {}
        },
        {
          "output_type": "stream",
          "name": "stdout",
          "text": [
            "Code test passed\n",
            "Go on to the next step\n"
          ]
        }
      ]
    },
    {
      "cell_type": "markdown",
      "metadata": {
        "id": "lnP9BOpPlhdK"
      },
      "source": [
        "# Step 5 - Polynomials"
      ]
    },
    {
      "cell_type": "markdown",
      "metadata": {
        "id": "ABF6PI7TlhdL"
      },
      "source": [
        "A \"monomial\" is one thing. A \"binomial\" is two things. A \"trinomial\" is three things. A \"polynomial\" is many things. In standard form, `x` is the variable; you put your terms in order from highest exponent to lowest; refer to the coefficients with letters in alphabetical order; and set all of this equal to `y` (because it is a function that you can graph). Example: y = ax<sup>4</sup> + bx<sup>3</sup> + cx<sup>2</sup> + dx + e <br>\n",
        "Write code to prompt for integer input and display a polynomial. Remember to use the `**` for exponents. Parts of this are already done for you."
      ]
    },
    {
      "cell_type": "code",
      "metadata": {
        "id": "USVAJRualhdL",
        "colab": {
          "base_uri": "https://localhost:8080/",
          "height": 182
        },
        "outputId": "15f65a75-e2c1-4e78-b2d1-3c2119ce0e78"
      },
      "source": [
        "from IPython.display import display, Math\n",
        "from sympy import *\n",
        "\n",
        "x,y = symbols('x y')\n",
        "\n",
        "a = int(input(\"Enter coefficient A: \"))\n",
        "b = int(input(\"Enter coefficient B: \"))\n",
        "c = int(input(\"Enter coefficient C: \"))\n",
        "d = int(input(\"Enter coefficient D: \"))\n",
        "# continue this to prompt for variables c and d\n",
        "\n",
        "# change the next line to display the full polynomial\n",
        "y = a*x**3 + b*x**2 + c*x + d\n",
        "\n",
        "print(\"Here is your equation:\")\n",
        "display(Math(\"y = \" + latex(y)))\n",
        "\n",
        "\n",
        "# Only change code above this line\n",
        "import math_code_test_c as test\n",
        "test.step05(In[-1].split('# Only change code above this line')[0])"
      ],
      "execution_count": null,
      "outputs": [
        {
          "output_type": "stream",
          "name": "stdout",
          "text": [
            "Enter coefficient A: 10\n",
            "Enter coefficient B: 12\n",
            "Enter coefficient C: 14\n",
            "Enter coefficient D: 16\n",
            "Here is your equation:\n"
          ]
        },
        {
          "output_type": "display_data",
          "data": {
            "text/plain": [
              "<IPython.core.display.Math object>"
            ],
            "text/latex": "$\\displaystyle y = 10 x^{3} + 12 x^{2} + 14 x + 16$"
          },
          "metadata": {}
        },
        {
          "output_type": "stream",
          "name": "stdout",
          "text": [
            " \n",
            "Code test passed\n",
            "Go on to the next step\n"
          ]
        }
      ]
    },
    {
      "cell_type": "markdown",
      "metadata": {
        "id": "yoavB8H_ljVn"
      },
      "source": [
        "# Step 6 - Interactive Polynomial Graph"
      ]
    },
    {
      "cell_type": "markdown",
      "metadata": {
        "id": "3yk-TKO6ljVo"
      },
      "source": [
        "For this polynomial, y = ax<sup>2</sup> + bx + c, you can move the sliders to adjust the coefficients and see how that affects the graph. Notice how the `f()` function takes two arguments and the `interactive()` function defines two sliders. Run this code and interact with it. Then add the third coefficient (\"c\") by changing three things: the `def` line so that the function takes three arguments, the `plt.plot` line so that it includes \"+ c\", and the `interactive` line to include a third slider."
      ]
    },
    {
      "cell_type": "code",
      "metadata": {
        "id": "sOecWXLOljVo",
        "colab": {
          "base_uri": "https://localhost:8080/",
          "height": 585,
          "referenced_widgets": [
            "fe72bc12b6554437b936275321c5d06c",
            "85029ccfe84c4872961daaa97ccce9a7",
            "490f1d782ef249d29268b18c579039e6",
            "00fabf46033648978fab411e9eb54810",
            "60080d847042447c8a7af811c955e74f",
            "c48761da010843f3abc28e50ca29b769",
            "af11cf471a904166ba54e609337880f9",
            "fed260ba278c4fbca83750d101d00503",
            "c7352e328c784af78d37e541c9c0e318",
            "c7b1f0aa674a4226a3c119381ebeea5b",
            "3a8cc089bd32470b825ee277e914604d",
            "9a8963757ff3489e8448b2fd5595ece5",
            "b376a8cd8e8a479e83f527f2122586ba"
          ]
        },
        "outputId": "c3a5116b-a59a-431a-cddd-9402a85db0b8"
      },
      "source": [
        "%matplotlib inline\n",
        "from ipywidgets import interactive\n",
        "import matplotlib.pyplot as plt\n",
        "import numpy as np\n",
        "\n",
        "# Change the next line:\n",
        "def f(a, b, c):\n",
        "    plt.axis([-10,10,-10,10]) # window size\n",
        "    plt.plot([-10,10],[0,0],'k') # blue x axis\n",
        "    plt.plot([0,0],[-10,10], 'k') # blue y axis\n",
        "    x = np.linspace(-10, 10, 200)\n",
        "    plt.plot(x, a*x**2+b*x+c) # Change this line\n",
        "    plt.show()\n",
        "\n",
        "# Change the next line:\n",
        "interactive_plot = interactive(f, a=(-9, 9), b=(-9, 9), c=(-9, 9))\n",
        "display(interactive_plot)\n",
        "\n",
        "\n",
        "# Only change code above this line\n",
        "import math_code_test_c as test\n",
        "test.step06(In[-1].split('# Only change code above this line')[0])"
      ],
      "execution_count": null,
      "outputs": [
        {
          "output_type": "display_data",
          "data": {
            "text/plain": [
              "interactive(children=(IntSlider(value=0, description='a', max=9, min=-9), IntSlider(value=0, description='b', …"
            ],
            "application/vnd.jupyter.widget-view+json": {
              "version_major": 2,
              "version_minor": 0,
              "model_id": "fe72bc12b6554437b936275321c5d06c"
            }
          },
          "metadata": {}
        },
        {
          "output_type": "stream",
          "name": "stdout",
          "text": [
            " \n",
            "Code test passed\n",
            "Go on to the next step\n"
          ]
        }
      ]
    },
    {
      "cell_type": "markdown",
      "metadata": {
        "id": "MlRfYVIylkQf"
      },
      "source": [
        "# Step 7 - Exponential Functions"
      ]
    },
    {
      "cell_type": "markdown",
      "metadata": {
        "id": "H16dtXc0lkQg"
      },
      "source": [
        "The general formula for an `exponential function` is $y = a*b^{x}$ (where `a` and `b` are constants and `x` is the variable in the exponent). The shape of exponential graphs, especially when not drawn to scale, are very consistent, so the numerical values are more important to calculate. Things that grow exponentially include populations, investments, and other \"percent increase\" situations. Run this code and use the sliders to see the slight changes. Notice the scale. Then change the slider so that `a` has negative values from -9 to -1 and see how that changes the graph."
      ]
    },
    {
      "cell_type": "code",
      "metadata": {
        "id": "8KIMFu7LlkQg",
        "colab": {
          "base_uri": "https://localhost:8080/",
          "height": 553,
          "referenced_widgets": [
            "8d434d32d5974ff290578ef82585405b",
            "2d6fd110c593440ea0d7e6026055b41a",
            "56fe6b1fc2f8449cbfdeab83fc4f5d5f",
            "d09beea858994ff6b98827eacc62fcb2",
            "2abeaad3207d41b3a783bba66f8714e3",
            "ed09e7c97a4a4451a99766851449b478",
            "99698e0226964b9abfb819ebd7c831e6",
            "401d1328f613430aa8aa412f70976f45",
            "a4f4c06e00b94332881419c70318f6cf",
            "799a850a888f4d41b76999ecb99b1772"
          ]
        },
        "outputId": "a20cd5e7-adec-4da8-d133-196101bac2ac"
      },
      "source": [
        "%matplotlib inline\n",
        "from ipywidgets import interactive\n",
        "import matplotlib.pyplot as plt\n",
        "import numpy as np\n",
        "\n",
        "xmin = -10\n",
        "xmax = 10\n",
        "ymin = -100\n",
        "ymax = 100\n",
        "\n",
        "def f(a, b):\n",
        "    plt.axis([xmin,xmax,ymin,ymax]) # window size\n",
        "    plt.plot([xmin,xmax],[0,0],'k') # x axis\n",
        "    plt.plot([0,0],[ymin,ymax], 'k') # y axis\n",
        "    x = np.linspace(xmin, xmax, 1000)\n",
        "    plt.plot(x, a*b**x)\n",
        "    plt.show()\n",
        "\n",
        "# Only change the next line:\n",
        "interactive_plot = interactive(f, a=(-9, -1), b=(1, 9))\n",
        "display(interactive_plot)\n",
        "\n",
        "\n",
        "# Only change code above this line\n",
        "import math_code_test_c as test\n",
        "test.step07(In[-1].split('# Only change code above this line')[0])"
      ],
      "execution_count": null,
      "outputs": [
        {
          "output_type": "display_data",
          "data": {
            "text/plain": [
              "interactive(children=(IntSlider(value=-5, description='a', max=-1, min=-9), IntSlider(value=5, description='b'…"
            ],
            "application/vnd.jupyter.widget-view+json": {
              "version_major": 2,
              "version_minor": 0,
              "model_id": "8d434d32d5974ff290578ef82585405b"
            }
          },
          "metadata": {}
        },
        {
          "output_type": "stream",
          "name": "stdout",
          "text": [
            " \n",
            "Code test passed\n",
            "Go on to the next step\n"
          ]
        }
      ]
    },
    {
      "cell_type": "markdown",
      "metadata": {
        "id": "NGH1FcttllvS"
      },
      "source": [
        "# Step 8 - Percent Increase"
      ]
    },
    {
      "cell_type": "markdown",
      "metadata": {
        "id": "KLKYiioGllvT"
      },
      "source": [
        "One formula for calculating a percent increase is <b>A = P(1 + r)<sup>t</sup></b> where `A` would be the `y` value on a graph and `t` would be the `x` value. `A` is the <i>annuity</i>, which is the amount you have at the end. `P` is the <i>principle</i>, which is the amount you have at the beginning. `R` (usually not capitalized) is the <i>rate</i>, a percent converted to a decimal. The exponent `t` represents <i>time</i>, usually in years. The code already prompts for `P`, `r` and `t`, so use those variables to calculate the annuity value."
      ]
    },
    {
      "cell_type": "code",
      "metadata": {
        "id": "Vkp6zmxIllvT",
        "colab": {
          "base_uri": "https://localhost:8080/"
        },
        "outputId": "f7c46388-585d-4c01-9c4c-1f57afa46ea1"
      },
      "source": [
        "p = float(input(\"Starting amount = \"))\n",
        "r = float(input(\"Enter the percentage rate, converted to a decimal: \"))\n",
        "t = float(input(\"How many years will this investment grow? \"))\n",
        "\n",
        "# Change the next line to calculate the annuity\n",
        "a = p*(1+r)**t\n",
        "\n",
        "print(\"The annuity is \", a)\n",
        "\n",
        "\n",
        "# Only change code above this line\n",
        "import math_code_test_c as test\n",
        "test.step08(In[-1].split('# Only change code above this line')[0])"
      ],
      "execution_count": null,
      "outputs": [
        {
          "output_type": "stream",
          "name": "stdout",
          "text": [
            "Starting amount = 1000\n",
            "Enter the percentage rate, converted to a decimal: .05\n",
            "How many years will this investment grow? 7\n",
            "The annuity is  1407.1004226562504\n",
            " \n",
            "Code test passed\n",
            "Go on to the next step\n"
          ]
        }
      ]
    },
    {
      "cell_type": "markdown",
      "metadata": {
        "id": "Sx0kwIdalmmY"
      },
      "source": [
        "# Step 9 - Percent Decrease"
      ]
    },
    {
      "cell_type": "markdown",
      "metadata": {
        "id": "Wx7fXQDKlmmZ"
      },
      "source": [
        "The percent decrease formula is very similar, except you subtract the rate, so the formula is <b>A = P(1 - r)<sup>t</sup></b>. Some things that decrease by a percent include car values, decay of some elements, and sales discounts. Use the existing variables to calculate the final value (`a`)."
      ]
    },
    {
      "cell_type": "code",
      "metadata": {
        "id": "zJmQoa6YlmmZ",
        "colab": {
          "base_uri": "https://localhost:8080/"
        },
        "outputId": "1816e541-8ddc-4e92-b03b-780657d66f94"
      },
      "source": [
        "p = float(input(\"Starting amount = \"))\n",
        "r = float(input(\"Enter the percentage rate, converted to a decimal: \"))\n",
        "t = float(input(\"How many years will this decrease continue? \"))\n",
        "\n",
        "# Change the next line to calculate the final amount\n",
        "a = p*(1-r)**t\n",
        "\n",
        "print(\"The final amount is \", a)\n",
        "\n",
        "# Only change code above this line\n",
        "import math_code_test_c as test\n",
        "test.step09(In[-1].split('# Only change code above this line')[0])"
      ],
      "execution_count": null,
      "outputs": [
        {
          "output_type": "stream",
          "name": "stdout",
          "text": [
            "Starting amount = 1000\n",
            "Enter the percentage rate, converted to a decimal: 0.5\n",
            "How many years will this decrease continue? 7\n",
            "The final amount is  7.8125\n",
            " \n",
            "Code test passed\n",
            "Go on to the next step\n"
          ]
        }
      ]
    },
    {
      "cell_type": "markdown",
      "source": [
        "#Step 10 - Compound Interest"
      ],
      "metadata": {
        "id": "S-DVSzwDvKvE"
      }
    },
    {
      "cell_type": "markdown",
      "source": [
        "When you use percent increase formulas for money in the bank, it's called <i>compound interest</i>. The amount of money you earn beyond the original principle is the interest. When the bank calculates the interest and adds it to the principle, that process is called <i>compounding</i> and it can happen any number of times per year. The formula is <b> A = P(1 + $\\frac{r}{n}$)<sup>nt</sup></b> where <i>n</i> is the number of times the bank compounds the money per year. Notice that if n = 1 then this formula is the same as the formula from an earlier step. Write the code to calculate the annuity (hint: use extra parentheses)."
      ],
      "metadata": {
        "id": "qf181QFOvCgd"
      }
    },
    {
      "cell_type": "code",
      "source": [
        "p = float(input(\"Starting amount: \"))\n",
        "r = float(input(\"Percentage rate, converted to a decimal: \"))\n",
        "t = float(input(\"Number of years this investment will grow: \"))\n",
        "n = int(input(\"Number of times compounded per year: \"))\n",
        "\n",
        "# Change the next line to calculate the annuity\n",
        "annuity = p*(1+(r/n))**(n*t)\n",
        "\n",
        "print(\"The annuity is \", annuity)\n",
        "\n",
        "\n",
        "# Only change code above this line\n",
        "import math_code_test_c as test\n",
        "test.step10(In[-1].split('# Only change code above this line')[0])"
      ],
      "metadata": {
        "id": "O0FAXixVvGXh",
        "colab": {
          "base_uri": "https://localhost:8080/"
        },
        "outputId": "f15b2767-c14d-4f6f-e30b-d375f445c0f1"
      },
      "execution_count": null,
      "outputs": [
        {
          "output_type": "stream",
          "name": "stdout",
          "text": [
            "Starting amount: 1000\n",
            "Percentage rate, converted to a decimal: 0.5\n",
            "Number of years this investment will grow: 7\n",
            "Number of times compounded per year: 52\n",
            "The annuity is  32566.37029500719\n",
            " \n",
            "Code test passed\n",
            "Go on to the next step\n"
          ]
        }
      ]
    },
    {
      "cell_type": "markdown",
      "metadata": {
        "id": "H6LTAPYplxvi"
      },
      "source": [
        "# Step 11 - Continuous Growth"
      ]
    },
    {
      "cell_type": "markdown",
      "metadata": {
        "id": "5oRPxD6olxvi"
      },
      "source": [
        "In the first formula, A = P(1 + r)<sup>t</sup>, money is compounded annually.<br>\n",
        "In the second formula, A = P(1 + $\\frac{r}{n})^{nt}$, money is compounded `n` times per year.<br>\n",
        "As `n` gets to be a really big number, you get a different formula, A = Pe$^{rt}$, for continuous growth.<br>\n",
        "In this formula, `e` is a constant, about equal to 2.718281828. The following code already prompts for the four variables once. Use those variables to compare the annuity from the three formulas. Notice you need to `import math` to use `math.e` (the best approximation of e)."
      ]
    },
    {
      "cell_type": "code",
      "metadata": {
        "id": "kf3Q0Yg7lxvk",
        "colab": {
          "base_uri": "https://localhost:8080/"
        },
        "outputId": "5d16ee03-db8d-4522-e609-8d7a4f3332ee"
      },
      "source": [
        "import math\n",
        "\n",
        "p = float(input(\"Principle: \"))\n",
        "r = float(input(\"Rate: \"))\n",
        "t = int(input(\"Time: \"))\n",
        "n = int(input(\"N: \"))\n",
        "\n",
        "# Only change the following three formulas:\n",
        "a_annual = p*(1+r)**t\n",
        "a_n_times = p*(1+r/n)**(n*t)\n",
        "a_continuous = p*math.e**(r*t)\n",
        "\n",
        "# Only change the code above this line\n",
        "\n",
        "print(\"Compounded annually, anuity = \", a_annual)\n",
        "print(\"Compounded \", n, \" times per year, anuity = \", a_n_times)\n",
        "print(\"Compounded continuously, anuity = \", a_continuous)\n",
        "\n",
        "\n",
        "# Only change code above this line\n",
        "import math_code_test_c as test\n",
        "test.step11(In[-1].split('# Only change code above this line')[0])"
      ],
      "execution_count": null,
      "outputs": [
        {
          "output_type": "stream",
          "name": "stdout",
          "text": [
            "Principle: 11000\n",
            "Rate: 0.6\n",
            "Time: 15\n",
            "N: 12\n",
            "Compounded annually, anuity =  12682136.550675327\n",
            "Compounded  12  times per year, anuity =  71691310.25061797\n",
            "Compounded continuously, anuity =  89133923.20332918\n",
            " \n",
            "Code test passed\n",
            "Go on to the next step\n"
          ]
        }
      ]
    },
    {
      "cell_type": "markdown",
      "metadata": {
        "id": "iaEBltZXln-Q"
      },
      "source": [
        "# Step 12 - Investments"
      ]
    },
    {
      "cell_type": "markdown",
      "source": [
        "If you have an investment where you contrubute money every month and the value also increases by a consistent percentage, you can create a loop to calculate the accumulated value. In each iteration, use the <i>simple interest</i> formula: interest = principle * rate * time. (Hint: for one month, t = $\\frac{1}{12}$ or you can just divide by 12.)"
      ],
      "metadata": {
        "id": "JTQ9uZw3UeGT"
      }
    },
    {
      "cell_type": "code",
      "metadata": {
        "id": "t7sRzH5Oln-R",
        "colab": {
          "base_uri": "https://localhost:8080/"
        },
        "outputId": "268a1528-12ad-4b73-edfe-e4ee26b77dbc"
      },
      "source": [
        "p = float(input(\"Starting amount: \"))\n",
        "r = float(input(\"Annual percentage rate: \"))\n",
        "t = int(input(\"Number of years: \"))\n",
        "monthly = float(input(\"Monthly contribution: \"))\n",
        "\n",
        "# Hint: keep updating this annuity variable in the loop\n",
        "annuity = p\n",
        "\n",
        "# Each iteration of the loop represents one month\n",
        "for a in range(12*t):\n",
        "    annuity = annuity + monthly\n",
        "    # Change the next line to calculate the interest\n",
        "    interest = annuity*r/12\n",
        "    annuity = annuity + interest\n",
        "\n",
        "# Keep this line:\n",
        "print(\"Annuity = \", annuity)\n",
        "\n",
        "\n",
        "# Only change code above this line\n",
        "import math_code_test_c as test\n",
        "test.step12(p,r,t,monthly,annuity)"
      ],
      "execution_count": 3,
      "outputs": [
        {
          "output_type": "stream",
          "name": "stdout",
          "text": [
            "Starting amount: 5000\n",
            "Annual percentage rate: .08\n",
            "Number of years: 35\n",
            "Monthly contribution: 400\n",
            "Annuity =  1005132.7633131231\n",
            " \n",
            "Code test passed\n",
            "Go on to the next step\n"
          ]
        }
      ]
    },
    {
      "cell_type": "markdown",
      "metadata": {
        "id": "l5GwlqRdlpEu"
      },
      "source": [
        "# Step 13 - Mortgage Payments"
      ]
    },
    {
      "cell_type": "markdown",
      "metadata": {
        "id": "50OH4hj8lpEv"
      },
      "source": [
        "When borrowing a large amount of money over a long period of time, the formula to calculate monthly payments gets complicated. Here it is:<br>\n",
        " monthly payment = P$\\frac{\\frac{r}{12}(1 + \\frac{r}{12})^{12t}}{(1 + \\frac{r}{12})^{12t} - 1}$ where, as usual, `P` is the principle, `r` is the annual interest rate (as a decimal), and  `t` is the time in years. Write the code to prompt for these variables and calculate the monthly payment. Hint: Use other variables and do this in steps."
      ]
    },
    {
      "cell_type": "code",
      "metadata": {
        "id": "E5X8_WbnlpEv",
        "colab": {
          "base_uri": "https://localhost:8080/"
        },
        "outputId": "727e9f1b-00e3-4600-ebd9-5e5d5eb222cc"
      },
      "source": [
        "p = float(input(\"Amount borrowed: \"))\n",
        "r = float(input(\"Annual percentage rate: \"))\n",
        "t = float(input(\"Number of years: \"))\n",
        "\n",
        "# Write your code here and change the pmt variable\n",
        "n = (r/12)*(1+r/12)**(12*t)\n",
        "d = (1+r/12)**(12*t)-1\n",
        "pmt = p*n/d\n",
        "\n",
        "# p for principle, t for time, r for rate\n",
        "\n",
        "print(\"Monthly payment = $\", pmt)\n",
        "\n",
        "\n",
        "# Only change code above this line\n",
        "import math_code_test_c as test\n",
        "test.step13(p,r,t,pmt)"
      ],
      "execution_count": 4,
      "outputs": [
        {
          "output_type": "stream",
          "name": "stdout",
          "text": [
            "Amount borrowed: 200000\n",
            "Annual percentage rate: .07\n",
            "Number of years: 30\n",
            "Monthly payment = $ 1330.6049903583646\n",
            " \n",
            "Code test passed\n",
            "Go on to the next step\n"
          ]
        }
      ]
    },
    {
      "cell_type": "markdown",
      "metadata": {
        "id": "8vdTo36Pl0yv"
      },
      "source": [
        "# Step 14 - Exponents and Logarithms"
      ]
    },
    {
      "cell_type": "markdown",
      "metadata": {
        "id": "gyMju8CVl0yw"
      },
      "source": [
        "Exponential functions and logarithmic functions are inverses of each other. Here is an example: <b>2<sup>4</sup> = 16</b> and <b>log<sub>2</sub>16 = 4</b>. Both have the same information rearranged in different ways. If you had 2<sup>4</sup> = x you would be able to do that easily, but if you had 2<sup>x</sup> = 16 it would be more difficult. You could write that last equation as a logarithm: log<sub>2</sub>16 = x. In Python, you would write this as `math.log(16,2)`. In both cases, you would read it as \"the log, base 2, of 16\" and the answer would be an exponent. The logarithm is especially useful when the exponent is not a nice integer. Write code to prompt for the base and the result, then use logarithms to calculate the exponent."
      ]
    },
    {
      "cell_type": "code",
      "metadata": {
        "id": "ehtA_ATbl0yw",
        "colab": {
          "base_uri": "https://localhost:8080/"
        },
        "outputId": "fb3a9538-ebe5-4a49-d9e6-44231f4f019d"
      },
      "source": [
        "import math\n",
        "\n",
        "base = float(input(\"base: \"))\n",
        "result = float(input(\"result: \"))\n",
        "\n",
        "# Just change the next line:\n",
        "exp = math.log(result,base)\n",
        "\n",
        "print(\"exponent = \", exp)\n",
        "\n",
        "\n",
        "# Only change code above this line\n",
        "import math_code_test_c as test\n",
        "test.step14(In[-1].split('# Only change code above this line')[0])"
      ],
      "execution_count": 5,
      "outputs": [
        {
          "output_type": "stream",
          "name": "stdout",
          "text": [
            "base: 3\n",
            "result: 81\n",
            "exponent =  4.0\n",
            " \n",
            "Code test passed\n",
            "Go on to the next step\n"
          ]
        }
      ]
    },
    {
      "cell_type": "markdown",
      "metadata": {
        "id": "U_7bv7aG4UJe"
      },
      "source": [
        "# Step 15 - Natural Logs"
      ]
    },
    {
      "cell_type": "markdown",
      "metadata": {
        "id": "uKjifZw04UJe"
      },
      "source": [
        "If you know the rate, how long will it take for something to double?\n",
        "Start with the continuous growth formula:<br>\n",
        "A = Pe<sup>rt</sup><br>\n",
        "If annuity is two times the principle, divide both sides by P\n",
        "and get this:<br>\n",
        "2 = e<sup>rt</sup><br>\n",
        "Because of the base <i>e</i>, take the natural log of both sides and get this:<br>\n",
        "ln(2) = rt<br>\n",
        "Then divide by r to solve for t or divide by t to solve for r. In Python, use `math.log()` with one argument and no base to calculate natural log (which is a logarithm with base e). So the natural log of 2 is `math.log(2)`. Just run the code to see this example."
      ]
    },
    {
      "cell_type": "code",
      "metadata": {
        "id": "dM3RxByK4UJe",
        "colab": {
          "base_uri": "https://localhost:8080/"
        },
        "outputId": "e25de114-d11a-4874-d5a8-fca4f0615c88"
      },
      "source": [
        "import math\n",
        "\n",
        "r = float(input(\"Enter the annual rate as a decimal: \\n\"))\n",
        "t = math.log(2)/r\n",
        "print(\"Your money will double in \", t, \" years\")\n",
        "\n",
        "\n",
        "# Just run this code\n",
        "import math_code_test_c as test\n",
        "test.step00()"
      ],
      "execution_count": 6,
      "outputs": [
        {
          "output_type": "stream",
          "name": "stdout",
          "text": [
            "Enter the annual rate as a decimal: \n",
            ".08\n",
            "Your money will double in  8.664339756999317  years\n",
            "Code test passed\n",
            "Go on to the next step\n"
          ]
        }
      ]
    },
    {
      "cell_type": "markdown",
      "metadata": {
        "id": "B7DOz9nh4XAb"
      },
      "source": [
        "# Step 16 - Common Logs"
      ]
    },
    {
      "cell_type": "markdown",
      "metadata": {
        "id": "MD3dH5yF4XAb"
      },
      "source": [
        "The <i>common log</i> is base 10, because that is our number system. Run this code a few times to see how the exponents relate to moving the decimal point to get the resulting number. Notice the floor function. Then take out the floor function to see the exact logarithm."
      ]
    },
    {
      "cell_type": "code",
      "metadata": {
        "id": "n390hG0GcEXI",
        "colab": {
          "base_uri": "https://localhost:8080/"
        },
        "outputId": "b1aff83f-917a-44b8-dac5-27bf5c46ac68"
      },
      "source": [
        "import math\n",
        "\n",
        "n = input('Enter a number with several digits or several decimal places: ')\n",
        "n = float(n)\n",
        "\n",
        "\n",
        "# Round the code then change the next line:\n",
        "exp = math.log(n, 10)\n",
        "\n",
        "# This avoids a weird Python quirk:\n",
        "if n==1000:\n",
        "    exp = 3;\n",
        "\n",
        "print(\"exponent = \", exp)\n",
        "\n",
        "\n",
        "# Only change code above this line\n",
        "import math_code_test_c as test\n",
        "test.step16(In[-1].split('# Only change code above this line')[0])"
      ],
      "execution_count": 8,
      "outputs": [
        {
          "output_type": "stream",
          "name": "stdout",
          "text": [
            "Enter a number with several digits or several decimal places: .0005\n",
            "exponent =  -3.301029995663981\n",
            " \n",
            "Code test passed\n",
            "Go on to the next step\n"
          ]
        }
      ]
    },
    {
      "cell_type": "markdown",
      "metadata": {
        "id": "cqvLtj7t4VMN"
      },
      "source": [
        "# Step 17 - Scientific Notation"
      ]
    },
    {
      "cell_type": "markdown",
      "metadata": {
        "id": "-Uh4YmRt4VMN"
      },
      "source": [
        "<i>Scientific Notation</i> is a way of writing very large or very small numbers without all of the zeros or decimal places. For example, 45,000,000 could be written as 4.5 x 10<sup>7</sup> in scientific notation and 0.00000045 could be written as 4.5 x 10<sup>-7</sup>. The notation requires base 10, so it will always use the structure <b>n $*$ 10<sup>x</sup></b> where n is one digit then the decimal point. Change the code below to print each number in scientific notation. Determine the value of each variable by counting (not writing code). You will automate this process in the next step."
      ]
    },
    {
      "cell_type": "code",
      "metadata": {
        "id": "UyPF6dKz4VMO",
        "colab": {
          "base_uri": "https://localhost:8080/"
        },
        "outputId": "1b1544f6-dee5-43f0-c0aa-017e5a02e9bd"
      },
      "source": [
        "a = 156000000000\n",
        "b = 0.000000000413\n",
        "\n",
        "# Change the code below this line\n",
        "\n",
        "a1 = 1.56\n",
        "a2 = 11\n",
        "b1 = 4.13\n",
        "b2 = -10\n",
        "\n",
        "print(a, \" = \", a1, \"* 10^\", a2)\n",
        "\n",
        "print(b, \" = \", b1, \"* 10^\", b2)\n",
        "\n",
        "\n",
        "# Only change code above this line\n",
        "import math_code_test_c as test\n",
        "test.step17(b1,b2)"
      ],
      "execution_count": 9,
      "outputs": [
        {
          "output_type": "stream",
          "name": "stdout",
          "text": [
            "156000000000  =  1.56 * 10^ 11\n",
            "4.13e-10  =  4.13 * 10^ -10\n",
            " \n",
            "Code test passed\n",
            "Go on to the next step\n"
          ]
        }
      ]
    },
    {
      "cell_type": "markdown",
      "metadata": {
        "id": "GsLj1NhZl1ya"
      },
      "source": [
        "#Step 18 - Logs and Scientific Notation"
      ]
    },
    {
      "cell_type": "markdown",
      "metadata": {
        "id": "uhWbIGVml1yb"
      },
      "source": [
        "Writing code for scientific notation, you will make use of logarithms with base 10. Remember that scientific notation is in the form n $*$ 10<sup>x</sup> where `n` is one digit and then a decimal. To convert a number to scientific notation, take the log of the number and use the `floor()` function to get the expoenent (just as you did in a previous step). Divide the original number by 10 to that exponent and you get `n` (hint: dividing by 10<sup>x</sup> is the same as multiplying by 10<sup>-x</sup>). Rounding is usually necessary. Write the code to convert numbers to scientific notation."
      ]
    },
    {
      "cell_type": "code",
      "metadata": {
        "id": "y8PXrFCYl1yb",
        "colab": {
          "base_uri": "https://localhost:8080/"
        },
        "outputId": "f353c70a-a506-4d85-a842-f05b7650c969"
      },
      "source": [
        "import math\n",
        "\n",
        "a = .00000000000234\n",
        "b = 12300000000000\n",
        "\n",
        "# Use these three lines as a model\n",
        "x1 = math.floor(math.log(a,10))\n",
        "n1 = round(a*10**(-x1),2)\n",
        "print(\"a = \", n1, \"* 10^\", x1)\n",
        "\n",
        "# Change the next two lines to match the model\n",
        "x2 = math.floor(math.log(b,10))\n",
        "n2 = round(b*10**(-x2),2)\n",
        "print(\"b = \", n2, \"* 10^\", x2)\n",
        "\n",
        "\n",
        "\n",
        "# Only change code above this line\n",
        "import math_code_test_c as test\n",
        "test.step18(In[-1].split('# Only change code above this line')[0])"
      ],
      "execution_count": 10,
      "outputs": [
        {
          "output_type": "stream",
          "name": "stdout",
          "text": [
            "a =  2.34 * 10^ -12\n",
            "b =  1.23 * 10^ 13\n",
            " \n",
            "Code test passed\n",
            "Go on to the next step\n"
          ]
        }
      ]
    },
    {
      "cell_type": "markdown",
      "metadata": {
        "id": "d7Lc9KfMYU8Y"
      },
      "source": [
        "# Step 19 - Scientific Notation Conversion"
      ]
    },
    {
      "cell_type": "markdown",
      "metadata": {
        "id": "21gdVKfeYc5R"
      },
      "source": [
        "Now ask for a number as input, and write the code to convert that number into scientific notation. You can re-use code you used in the previous step, using `n` and `x` as variables to print n * 10^x."
      ]
    },
    {
      "cell_type": "code",
      "metadata": {
        "id": "VkOkpmrP4XAb",
        "colab": {
          "base_uri": "https://localhost:8080/"
        },
        "outputId": "eb13c978-102e-40d0-a5a9-4ab1f717b790"
      },
      "source": [
        "import math\n",
        "\n",
        "a = float(input('Enter a number to convert to scientific notation: '))\n",
        "# you can make this as your calculator\n",
        "\n",
        "x = math.floor(math.log(a,10))\n",
        "n = round(a*10**(-x),2)\n",
        "print(\"a = \", n, \"* 10^\", x)\n",
        "\n",
        "# Only change code above this line\n",
        "import math_code_test_c as test\n",
        "test.step19(In[-1].split('# Only change code above this line')[0])"
      ],
      "execution_count": 12,
      "outputs": [
        {
          "output_type": "stream",
          "name": "stdout",
          "text": [
            "Enter a number to convert to scientific notation: 1230000\n",
            "a =  1.23 * 10^ 6\n",
            " \n",
            "Code test passed\n",
            "Go on to the next step\n"
          ]
        }
      ]
    },
    {
      "cell_type": "markdown",
      "metadata": {
        "id": "VkD30ljxlyw9"
      },
      "source": [
        "# Step 20 - Graphing Exponents and Logs"
      ]
    },
    {
      "cell_type": "markdown",
      "metadata": {
        "id": "A7YL0fIdlyw-"
      },
      "source": [
        "When not writing code, the <i>natural log</i> is written as \"ln\" and it means a logarithm with base e. Like any pair of inverse functions, the line y = e<sup>x</sup> and the line y = ln(x) are mirrored over the line y = x.  Because of the `np.linspace()` function in this code, `np.log()` works, but `math.log()` does not work here. Both log() functions in Python use e as the base by default. When using the `numpy` library, use `np.log10()` for base 10, `np.log2()` for base 2, etc. Because log functions can only have positive x values, the np.linspace() function will define a positive range for the log() function. Run this code, then change the blue line function to graph y = 2<sup>x</sup> and change the green line function to graph y = log<sub>2</sub>x and notice the similarities between the graphs."
      ]
    },
    {
      "cell_type": "code",
      "metadata": {
        "id": "fJiDmoW1lyw_",
        "colab": {
          "base_uri": "https://localhost:8080/",
          "height": 489
        },
        "outputId": "a38cfc84-1720-4f85-9b19-c88a42609feb"
      },
      "source": [
        "import matplotlib.pyplot as plt\n",
        "import numpy as np\n",
        "import math\n",
        "\n",
        "xmin = -10\n",
        "xmax = 10\n",
        "ymin = -10\n",
        "ymax = 10\n",
        "plt.axis([xmin,xmax,ymin,ymax]) # window size\n",
        "plt.plot([xmin,xmax],[0,0],'k') # x axis\n",
        "plt.plot([0,0],[ymin,ymax], 'k') # y axis\n",
        "\n",
        "# Same x values for two lines\n",
        "x1 = np.linspace(xmin, xmax, 1000)\n",
        "\n",
        "# Blue line for y = e^x\n",
        "plt.plot(x1, 2**x1, 'b')  # Change this line\n",
        "\n",
        "# Red line for y = x\n",
        "plt.plot(x1, x1, 'r')\n",
        "\n",
        "# Different x values for y = log(x) because x > 0\n",
        "x2 = np.linspace(.001, xmax, 500)\n",
        "\n",
        "# Green line for y = log(x)\n",
        "plt.plot(x2, np.log2(x2), 'g')  # Change this line\n",
        "\n",
        "plt.show()\n",
        "\n",
        "\n",
        "# Only change code above this line\n",
        "import math_code_test_c as test\n",
        "test.step20(In[-1].split('# Only change code above this line')[0])"
      ],
      "execution_count": 14,
      "outputs": [
        {
          "output_type": "display_data",
          "data": {
            "text/plain": [
              "<Figure size 640x480 with 1 Axes>"
            ],
            "image/png": "[encoded data removed]"
          },
          "metadata": {}
        },
        {
          "output_type": "stream",
          "name": "stdout",
          "text": [
            " \n",
            "Code test passed\n",
            "Go on to the next step\n"
          ]
        }
      ]
    },
    {
      "cell_type": "markdown",
      "metadata": {
        "id": "bJzxcKIfz8Qt"
      },
      "source": [
        "# Step 21 - Log Application - pH Scale"
      ]
    },
    {
      "cell_type": "markdown",
      "metadata": {
        "id": "pfF3voqSz8Q9"
      },
      "source": [
        "The pH scale, for measuring acids and bases, is a logarithmic scale. The negative log of the hydrogen concentration is the pH. Example: if the hydrogen concentration is .007 then that would be 7 * 10<sup>-3</sup> and therefore a pH of 3. Write the code to prompt for hydrogen concentration and then print the pH. Hint: the <i>ceiling</i> function (`math.ceil()`) works better than rounding here."
      ]
    },
    {
      "cell_type": "code",
      "metadata": {
        "id": "tepkvSubz8Q9",
        "colab": {
          "base_uri": "https://localhost:8080/"
        },
        "outputId": "ceb7497b-70d6-4627-d425-0c13c5207cbd"
      },
      "source": [
        "import math\n",
        "\n",
        "decimal = float(input(\"Enter the hydrogen concentration as a decimal number: \"))\n",
        "\n",
        "# Write your code here\n",
        "h = math.ceil(-math.log(decimal,10))\n",
        "\n",
        "print(\"pH = \", h)\n",
        "\n",
        "# Only change code above this line\n",
        "import math_code_test_c as test\n",
        "test.step21(In[-1].split('# Only change code above this line')[0])"
      ],
      "execution_count": 16,
      "outputs": [
        {
          "output_type": "stream",
          "name": "stdout",
          "text": [
            "Enter the hydrogen concentration as a decimal number: .00005\n",
            "pH =  5\n",
            " \n",
            "Code test passed\n"
          ]
        }
      ]
    },
    {
      "cell_type": "markdown",
      "source": [
        "# Step 22 - Functions for the Project"
      ],
      "metadata": {
        "id": "8iWUAktvPLYp"
      }
    },
    {
      "cell_type": "markdown",
      "source": [
        "Define a function for calculating mortgage payments and a function for calculating investment balance. Use code you wrote in earlier steps. Each function should prompt for input and print the output."
      ],
      "metadata": {
        "id": "a9gRwbr-PGPC"
      }
    },
    {
      "cell_type": "code",
      "source": [
        "# Write your code here\n",
        "def mort_pay():\n",
        "    p = float(input(\"Amount borrowed: \"))\n",
        "    r = float(input(\"Annual percentage rate: \"))\n",
        "    t = float(input(\"Number of years: \"))\n",
        "\n",
        "\n",
        "    n = (r/12)*(1+r/12)**(12*t)\n",
        "    d = (1+r/12)**(12*t)-1\n",
        "    pmt = p*n/d\n",
        "\n",
        "# p for principle, t for time, r for rate\n",
        "\n",
        "    print(\"Monthly payment = $\", pmt)\n"
      ],
      "metadata": {
        "id": "neFvvCOzO_WB"
      },
      "execution_count": 18,
      "outputs": []
    },
    {
      "cell_type": "markdown",
      "source": [
        "# Step 23 - More Functions"
      ],
      "metadata": {
        "id": "rzaQj8dEOfzb"
      }
    },
    {
      "cell_type": "markdown",
      "source": [
        "Create a function that produces an interactive polynomial graph (with sliders). Use code from an earlier step."
      ],
      "metadata": {
        "id": "C6OV8KzQOTS_"
      }
    },
    {
      "cell_type": "code",
      "source": [
        "# Write your code here\n",
        "\n",
        "import numpy as np\n",
        "import matplotlib.pyplot as plt\n",
        "from ipywidgets import interact, FloatSlider\n",
        "\n",
        "def plot_polynomial(coefficients):\n",
        "    x = np.linspace(-10, 10, 100)\n",
        "    y = np.polyval(coefficients, x)\n",
        "\n",
        "    plt.figure(figsize=(8, 6))\n",
        "    plt.plot(x, y, label='Polynomial')\n",
        "\n",
        "    plt.xlabel('x')\n",
        "    plt.ylabel('y')\n",
        "    plt.title('Interactive Polynomial Graph')\n",
        "    plt.legend()\n",
        "\n",
        "    plt.show()\n",
        "\n",
        "# Function to create sliders for polynomial coefficients\n",
        "def create_sliders(degree):\n",
        "    sliders = []\n",
        "    for i in range(degree + 1):\n",
        "        slider = FloatSlider(min=-10, max=10, step=0.5, value=0.0, description=f'x^{i}')\n",
        "        sliders.append(slider)\n",
        "\n",
        "    return sliders\n",
        "\n",
        "# Function to update the plot based on slider values\n",
        "def update_plot(*args):\n",
        "    coefficients = [slider.value for slider in sliders]\n",
        "    plot_polynomial(coefficients)\n",
        "\n",
        "# Create sliders for a polynomial of degree 3\n",
        "sliders = create_sliders(3)\n",
        "\n",
        "# Display the sliders and update the plot\n",
        "interact(update_plot, **{slider.description: slider for slider in sliders})\n",
        "\n",
        "\n",
        "# This step does not have a test"
      ],
      "metadata": {
        "id": "6cGh0vE1OYyC",
        "colab": {
          "base_uri": "https://localhost:8080/",
          "height": 582,
          "referenced_widgets": [
            "2a8ccad02d8c4804a6f38e706b47d23c",
            "0104620a4f614202b1998ccb6123d88c",
            "b783624c63d640dcae17cc1be016f3c9",
            "67b10fc3279743f89a1cd3adcb300469"
          ]
        },
        "outputId": "98d8bb13-97e2-428a-8377-561730b9f9ff"
      },
      "execution_count": 19,
      "outputs": [
        {
          "output_type": "display_data",
          "data": {
            "text/plain": [
              "interactive(children=(Output(),), _dom_classes=('widget-interact',))"
            ],
            "application/vnd.jupyter.widget-view+json": {
              "version_major": 2,
              "version_minor": 0,
              "model_id": "2a8ccad02d8c4804a6f38e706b47d23c"
            }
          },
          "metadata": {}
        },
        {
          "output_type": "execute_result",
          "data": {
            "text/plain": [
              "<function __main__.update_plot(*args)>"
            ]
          },
          "metadata": {},
          "execution_count": 19
        }
      ]
    },
    {
      "cell_type": "markdown",
      "source": [
        "# Step 24 - New Function"
      ],
      "metadata": {
        "id": "UptjjiCOTSS2"
      }
    },
    {
      "cell_type": "markdown",
      "source": [
        "Create a function to print the time required for money to double, given the rate. Use the continuous growth formula from an earlier step."
      ],
      "metadata": {
        "id": "XKXNbHzGTKAp"
      }
    },
    {
      "cell_type": "code",
      "source": [
        "# Write your code here\n",
        "import math\n",
        "\n",
        "def time_to_double(rate):\n",
        "    doubling_time = math.log(2) / rate\n",
        "    return doubling_time\n",
        "\n",
        "# Example usage\n",
        "rate = 0.05  # 5% annual interest rate\n",
        "time = time_to_double(rate)\n",
        "print(f\"The time required for the investment to double is approximately {time:.2f} years.\")\n",
        "\n",
        "\n",
        "# This step does not have a test"
      ],
      "metadata": {
        "id": "kWs_IpxrTYyl",
        "colab": {
          "base_uri": "https://localhost:8080/"
        },
        "outputId": "33ebab95-7cec-40dc-fe83-15985ff31961"
      },
      "execution_count": 20,
      "outputs": [
        {
          "output_type": "stream",
          "name": "stdout",
          "text": [
            "The time required for the investment to double is approximately 13.86 years.\n"
          ]
        }
      ]
    },
    {
      "cell_type": "markdown",
      "source": [
        "# Step 25 - Certification Project 3"
      ],
      "metadata": {
        "id": "CRa5i8s3UCuL"
      }
    },
    {
      "cell_type": "markdown",
      "source": [
        "Build a financial app that calculates all of the following:<br>\n",
        "<ul>\n",
        "<li>Mortgage payment - given principle, rate, time</li>\n",
        "<li>Retirement account balance at time of retirement</li>\n",
        "<li>Time required for money to double - given the rate</li>\n",
        "<li>Rate of growth - given starting value, time, and ending value</li>\n",
        "</ul>"
      ],
      "metadata": {
        "id": "nngVpvqeT4U7"
      }
    },
    {
      "cell_type": "code",
      "source": [
        "# Write your code here\n",
        "import math\n",
        "\n",
        "def calculate_mortgage_payment(principal, rate, time):\n",
        "    monthly_rate = rate / 12\n",
        "    num_payments = time * 12\n",
        "    mortgage_payment = principal * (monthly_rate * math.pow(1 + monthly_rate, num_payments)) / (math.pow(1 + monthly_rate, num_payments) - 1)\n",
        "    return mortgage_payment\n",
        "\n",
        "def calculate_retirement_balance(principal, rate, time, contribution):\n",
        "    monthly_rate = rate / 12\n",
        "    num_payments = time * 12\n",
        "    retirement_balance = principal * math.pow(1 + monthly_rate, num_payments) + (contribution * (math.pow(1 + monthly_rate, num_payments) - 1) / monthly_rate)\n",
        "    return retirement_balance\n",
        "\n",
        "def calculate_time_to_double(rate):\n",
        "    doubling_time = math.log(2) / rate\n",
        "    return doubling_time\n",
        "\n",
        "def calculate_growth_rate(start_value, time, end_value):\n",
        "    growth_rate = math.pow(end_value / start_value, 1 / time) - 1\n",
        "    return growth_rate\n",
        "\n",
        "# Example usage\n",
        "principal = 200000  # Mortgage principal amount\n",
        "rate = 0.05  # Annual interest rate\n",
        "time = 30  # Mortgage term in years\n",
        "mortgage_payment = calculate_mortgage_payment(principal, rate, time)\n",
        "print(f\"Mortgage payment: ${mortgage_payment:.2f}\")\n",
        "\n",
        "principal = 100000  # Retirement account principal amount\n",
        "rate = 0.08  # Annual interest rate\n",
        "time = 30  # Time until retirement in years\n",
        "contribution = 500  # Monthly contribution to retirement account\n",
        "retirement_balance = calculate_retirement_balance(principal, rate, time, contribution)\n",
        "print(f\"Retirement account balance at retirement: ${retirement_balance:.2f}\")\n",
        "\n",
        "rate = 0.05  # Annual interest rate\n",
        "time_to_double = calculate_time_to_double(rate)\n",
        "print(f\"The time required for money to double is approximately {time_to_double:.2f} years.\")\n",
        "\n",
        "start_value = 1000  # Starting value of investment\n",
        "time = 5  # Time period in years\n",
        "end_value = 1500  # Ending value of investment\n",
        "growth_rate = calculate_growth_rate(start_value, time, end_value)\n",
        "print(f\"The rate of growth is approximately {growth_rate:.2%} per year.\")\n",
        "\n",
        "\n"
      ],
      "metadata": {
        "id": "fa2o--pDT-Sd",
        "colab": {
          "base_uri": "https://localhost:8080/"
        },
        "outputId": "afcd787e-47c7-4e31-fcbf-c7cec66c8a35"
      },
      "execution_count": 21,
      "outputs": [
        {
          "output_type": "stream",
          "name": "stdout",
          "text": [
            "Mortgage payment: $1073.64\n",
            "Retirement account balance at retirement: $1838752.69\n",
            "The time required for money to double is approximately 13.86 years.\n",
            "The rate of growth is approximately 8.45% per year.\n"
          ]
        }
      ]
    }
  ]
}